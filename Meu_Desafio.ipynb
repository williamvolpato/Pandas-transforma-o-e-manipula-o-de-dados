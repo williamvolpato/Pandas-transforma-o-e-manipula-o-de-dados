{
  "nbformat": 4,
  "nbformat_minor": 0,
  "metadata": {
    "colab": {
      "provenance": []
    },
    "kernelspec": {
      "name": "python3",
      "display_name": "Python 3"
    },
    "language_info": {
      "name": "python"
    }
  },
  "cells": [
    {
      "cell_type": "code",
      "execution_count": 1,
      "metadata": {
        "id": "vM3OZ9VnSGpc"
      },
      "outputs": [],
      "source": [
        "## Projeto Desafio 1: Vendas Online\n",
        "## Etapas 1 a 4: Transformações Completas\n",
        "\n",
        "import pandas as pd\n",
        "import json\n",
        "import re\n",
        "from google.colab import files"
      ]
    },
    {
      "cell_type": "code",
      "source": [
        "# Carregar o arquivo JSON - Vendas Online\n",
        "uploaded = files.upload()"
      ],
      "metadata": {
        "colab": {
          "base_uri": "https://localhost:8080/",
          "height": 107
        },
        "id": "XIG4Z9dtSb3_",
        "outputId": "aa3ede31-0116-48d3-a7b2-e5469995c2ce"
      },
      "execution_count": 2,
      "outputs": [
        {
          "output_type": "display_data",
          "data": {
            "text/plain": [
              "<IPython.core.display.HTML object>"
            ],
            "text/html": [
              "\n",
              "     <input type=\"file\" id=\"files-6708b9ad-a7ad-4838-a6f6-fca9e2d0d1c6\" name=\"files[]\" multiple disabled\n",
              "        style=\"border:none\" />\n",
              "     <output id=\"result-6708b9ad-a7ad-4838-a6f6-fca9e2d0d1c6\">\n",
              "      Upload widget is only available when the cell has been executed in the\n",
              "      current browser session. Please rerun this cell to enable.\n",
              "      </output>\n",
              "      <script>// Copyright 2017 Google LLC\n",
              "//\n",
              "// Licensed under the Apache License, Version 2.0 (the \"License\");\n",
              "// you may not use this file except in compliance with the License.\n",
              "// You may obtain a copy of the License at\n",
              "//\n",
              "//      http://www.apache.org/licenses/LICENSE-2.0\n",
              "//\n",
              "// Unless required by applicable law or agreed to in writing, software\n",
              "// distributed under the License is distributed on an \"AS IS\" BASIS,\n",
              "// WITHOUT WARRANTIES OR CONDITIONS OF ANY KIND, either express or implied.\n",
              "// See the License for the specific language governing permissions and\n",
              "// limitations under the License.\n",
              "\n",
              "/**\n",
              " * @fileoverview Helpers for google.colab Python module.\n",
              " */\n",
              "(function(scope) {\n",
              "function span(text, styleAttributes = {}) {\n",
              "  const element = document.createElement('span');\n",
              "  element.textContent = text;\n",
              "  for (const key of Object.keys(styleAttributes)) {\n",
              "    element.style[key] = styleAttributes[key];\n",
              "  }\n",
              "  return element;\n",
              "}\n",
              "\n",
              "// Max number of bytes which will be uploaded at a time.\n",
              "const MAX_PAYLOAD_SIZE = 100 * 1024;\n",
              "\n",
              "function _uploadFiles(inputId, outputId) {\n",
              "  const steps = uploadFilesStep(inputId, outputId);\n",
              "  const outputElement = document.getElementById(outputId);\n",
              "  // Cache steps on the outputElement to make it available for the next call\n",
              "  // to uploadFilesContinue from Python.\n",
              "  outputElement.steps = steps;\n",
              "\n",
              "  return _uploadFilesContinue(outputId);\n",
              "}\n",
              "\n",
              "// This is roughly an async generator (not supported in the browser yet),\n",
              "// where there are multiple asynchronous steps and the Python side is going\n",
              "// to poll for completion of each step.\n",
              "// This uses a Promise to block the python side on completion of each step,\n",
              "// then passes the result of the previous step as the input to the next step.\n",
              "function _uploadFilesContinue(outputId) {\n",
              "  const outputElement = document.getElementById(outputId);\n",
              "  const steps = outputElement.steps;\n",
              "\n",
              "  const next = steps.next(outputElement.lastPromiseValue);\n",
              "  return Promise.resolve(next.value.promise).then((value) => {\n",
              "    // Cache the last promise value to make it available to the next\n",
              "    // step of the generator.\n",
              "    outputElement.lastPromiseValue = value;\n",
              "    return next.value.response;\n",
              "  });\n",
              "}\n",
              "\n",
              "/**\n",
              " * Generator function which is called between each async step of the upload\n",
              " * process.\n",
              " * @param {string} inputId Element ID of the input file picker element.\n",
              " * @param {string} outputId Element ID of the output display.\n",
              " * @return {!Iterable<!Object>} Iterable of next steps.\n",
              " */\n",
              "function* uploadFilesStep(inputId, outputId) {\n",
              "  const inputElement = document.getElementById(inputId);\n",
              "  inputElement.disabled = false;\n",
              "\n",
              "  const outputElement = document.getElementById(outputId);\n",
              "  outputElement.innerHTML = '';\n",
              "\n",
              "  const pickedPromise = new Promise((resolve) => {\n",
              "    inputElement.addEventListener('change', (e) => {\n",
              "      resolve(e.target.files);\n",
              "    });\n",
              "  });\n",
              "\n",
              "  const cancel = document.createElement('button');\n",
              "  inputElement.parentElement.appendChild(cancel);\n",
              "  cancel.textContent = 'Cancel upload';\n",
              "  const cancelPromise = new Promise((resolve) => {\n",
              "    cancel.onclick = () => {\n",
              "      resolve(null);\n",
              "    };\n",
              "  });\n",
              "\n",
              "  // Wait for the user to pick the files.\n",
              "  const files = yield {\n",
              "    promise: Promise.race([pickedPromise, cancelPromise]),\n",
              "    response: {\n",
              "      action: 'starting',\n",
              "    }\n",
              "  };\n",
              "\n",
              "  cancel.remove();\n",
              "\n",
              "  // Disable the input element since further picks are not allowed.\n",
              "  inputElement.disabled = true;\n",
              "\n",
              "  if (!files) {\n",
              "    return {\n",
              "      response: {\n",
              "        action: 'complete',\n",
              "      }\n",
              "    };\n",
              "  }\n",
              "\n",
              "  for (const file of files) {\n",
              "    const li = document.createElement('li');\n",
              "    li.append(span(file.name, {fontWeight: 'bold'}));\n",
              "    li.append(span(\n",
              "        `(${file.type || 'n/a'}) - ${file.size} bytes, ` +\n",
              "        `last modified: ${\n",
              "            file.lastModifiedDate ? file.lastModifiedDate.toLocaleDateString() :\n",
              "                                    'n/a'} - `));\n",
              "    const percent = span('0% done');\n",
              "    li.appendChild(percent);\n",
              "\n",
              "    outputElement.appendChild(li);\n",
              "\n",
              "    const fileDataPromise = new Promise((resolve) => {\n",
              "      const reader = new FileReader();\n",
              "      reader.onload = (e) => {\n",
              "        resolve(e.target.result);\n",
              "      };\n",
              "      reader.readAsArrayBuffer(file);\n",
              "    });\n",
              "    // Wait for the data to be ready.\n",
              "    let fileData = yield {\n",
              "      promise: fileDataPromise,\n",
              "      response: {\n",
              "        action: 'continue',\n",
              "      }\n",
              "    };\n",
              "\n",
              "    // Use a chunked sending to avoid message size limits. See b/62115660.\n",
              "    let position = 0;\n",
              "    do {\n",
              "      const length = Math.min(fileData.byteLength - position, MAX_PAYLOAD_SIZE);\n",
              "      const chunk = new Uint8Array(fileData, position, length);\n",
              "      position += length;\n",
              "\n",
              "      const base64 = btoa(String.fromCharCode.apply(null, chunk));\n",
              "      yield {\n",
              "        response: {\n",
              "          action: 'append',\n",
              "          file: file.name,\n",
              "          data: base64,\n",
              "        },\n",
              "      };\n",
              "\n",
              "      let percentDone = fileData.byteLength === 0 ?\n",
              "          100 :\n",
              "          Math.round((position / fileData.byteLength) * 100);\n",
              "      percent.textContent = `${percentDone}% done`;\n",
              "\n",
              "    } while (position < fileData.byteLength);\n",
              "  }\n",
              "\n",
              "  // All done.\n",
              "  yield {\n",
              "    response: {\n",
              "      action: 'complete',\n",
              "    }\n",
              "  };\n",
              "}\n",
              "\n",
              "scope.google = scope.google || {};\n",
              "scope.google.colab = scope.google.colab || {};\n",
              "scope.google.colab._files = {\n",
              "  _uploadFiles,\n",
              "  _uploadFilesContinue,\n",
              "};\n",
              "})(self);\n",
              "</script> "
            ]
          },
          "metadata": {}
        },
        {
          "output_type": "stream",
          "name": "stdout",
          "text": [
            "Saving dados_locacao_imoveis.json to dados_locacao_imoveis.json\n",
            "Saving dados_vendas_clientes.json to dados_vendas_clientes.json\n"
          ]
        }
      ]
    },
    {
      "cell_type": "code",
      "source": [
        "# Ler o arquivo de vendas\n",
        "with open('dados_vendas_clientes.json', 'r') as file:\n",
        "    dados_vendas = json.load(file)"
      ],
      "metadata": {
        "id": "oxFiT3BVShRE"
      },
      "execution_count": 3,
      "outputs": []
    },
    {
      "cell_type": "code",
      "source": [
        "# Processar os dados\n",
        "rows = []\n",
        "for venda in dados_vendas['dados_vendas']:\n",
        "    data_venda = venda['Data de venda']\n",
        "    for cliente, valor in zip(venda['Cliente'], venda['Valor da compra']):\n",
        "        rows.append({'Cliente': cliente, 'Valor da compra': valor, 'Data de venda': data_venda})"
      ],
      "metadata": {
        "id": "6g-IgXRJSkKi"
      },
      "execution_count": 4,
      "outputs": []
    },
    {
      "cell_type": "code",
      "source": [
        "# Criar DataFrame\n",
        "df_vendas = pd.DataFrame(rows)"
      ],
      "metadata": {
        "id": "wCOKii7PSmV2"
      },
      "execution_count": 5,
      "outputs": []
    },
    {
      "cell_type": "code",
      "source": [
        "# Transformar a coluna 'Valor da compra' para numérico\n",
        "df_vendas['Valor da compra'] = df_vendas['Valor da compra'].str.replace('R$', '').str.replace(',', '.').astype(float)"
      ],
      "metadata": {
        "id": "_XMwqBgtSoGt"
      },
      "execution_count": 6,
      "outputs": []
    },
    {
      "cell_type": "code",
      "source": [
        "# Manipular os textos na coluna 'Cliente'\n",
        "def clean_client_name(name):\n",
        "    name = name.lower()  # Transformar em letras minúsculas\n",
        "    name = re.sub(r'[^a-z\\s]', '', name)  # Remover caracteres especiais e números\n",
        "    return name.strip()"
      ],
      "metadata": {
        "id": "cWAEfCGZSp4w"
      },
      "execution_count": 7,
      "outputs": []
    },
    {
      "cell_type": "code",
      "source": [
        "df_vendas['Cliente'] = df_vendas['Cliente'].apply(clean_client_name)"
      ],
      "metadata": {
        "id": "bImmLhxDSrrv"
      },
      "execution_count": 8,
      "outputs": []
    },
    {
      "cell_type": "code",
      "source": [
        "# Transformar a coluna 'Data de venda' para datetime\n",
        "df_vendas['Data de venda'] = pd.to_datetime(df_vendas['Data de venda'], format='%d/%m/%Y')"
      ],
      "metadata": {
        "id": "enjfxCjqStkF"
      },
      "execution_count": 9,
      "outputs": []
    },
    {
      "cell_type": "code",
      "source": [
        "print(\"Dados de Vendas Online:\")\n",
        "print(df_vendas.head())"
      ],
      "metadata": {
        "colab": {
          "base_uri": "https://localhost:8080/"
        },
        "id": "rKCnPrsqSvWb",
        "outputId": "c8771d8d-95e0-4076-c56b-620260aa0fd4"
      },
      "execution_count": 11,
      "outputs": [
        {
          "output_type": "stream",
          "name": "stdout",
          "text": [
            "Dados de Vendas Online:\n",
            "          Cliente  Valor da compra Data de venda\n",
            "0       ana lucia           836.50    2022-06-06\n",
            "1  diego armandiu           573.33    2022-06-06\n",
            "2  diego armandiu           392.80    2022-06-06\n",
            "3  diego armandiu           512.34    2022-06-06\n",
            "4  isabely joanes           825.31    2022-06-07\n"
          ]
        }
      ]
    },
    {
      "cell_type": "code",
      "source": [
        "# Análise de subconjunto - Identificar o cliente com a maior compra na semana\n",
        "cliente_top = df_vendas.groupby('Cliente')['Valor da compra'].sum().idxmax()\n",
        "valor_top = df_vendas.groupby('Cliente')['Valor da compra'].sum().max()\n",
        "print(f'\\nCliente com a maior compra na semana: {cliente_top}, Valor total gasto: R$ {valor_top:.2f}')"
      ],
      "metadata": {
        "colab": {
          "base_uri": "https://localhost:8080/"
        },
        "id": "lApJB_YYSz7f",
        "outputId": "69f7a4eb-8d06-49bc-e4f6-69df96e07bf6"
      },
      "execution_count": 12,
      "outputs": [
        {
          "output_type": "stream",
          "name": "stdout",
          "text": [
            "\n",
            "Cliente com a maior compra na semana: isabely joanes, Valor total gasto: R$ 2329.30\n"
          ]
        }
      ]
    },
    {
      "cell_type": "code",
      "source": [
        "## Projeto Desafio 2: Administração de Condomínios\n",
        "## Etapas 1 a 4: Transformações Completas\n",
        "\n",
        "# Ler o arquivo de locação\n",
        "with open('dados_locacao_imoveis.json', 'r') as file:\n",
        "    dados_locacao = json.load(file)"
      ],
      "metadata": {
        "id": "5fDd2c2cS6CS"
      },
      "execution_count": 14,
      "outputs": []
    },
    {
      "cell_type": "code",
      "source": [
        "# Processar os dados\n",
        "rows = []\n",
        "for locacao in dados_locacao['dados_locacao']:\n",
        "    apartamento = locacao['apartamento']\n",
        "    for data_combinada, data_pagamento, valor in zip(locacao['datas_combinadas_pagamento'], locacao['datas_de_pagamento'], locacao['valor_aluguel']):\n",
        "        rows.append({'Apartamento': apartamento, 'Data combinada de pagamento': data_combinada, 'Data de pagamento': data_pagamento, 'Valor do aluguel': valor})"
      ],
      "metadata": {
        "id": "gf9R02-oTETR"
      },
      "execution_count": 15,
      "outputs": []
    },
    {
      "cell_type": "code",
      "source": [
        "# Criar DataFrame\n",
        "df_locacao = pd.DataFrame(rows)"
      ],
      "metadata": {
        "id": "vfJxRPAwTGoc"
      },
      "execution_count": 16,
      "outputs": []
    },
    {
      "cell_type": "code",
      "source": [
        "# Transformar a coluna 'Valor do aluguel' para numérico\n",
        "df_locacao['Valor do aluguel'] = df_locacao['Valor do aluguel'].str.replace('$', '').str.replace(' reais', '').str.replace(',', '').astype(float)"
      ],
      "metadata": {
        "id": "ww15YIdMTIaG"
      },
      "execution_count": 17,
      "outputs": []
    },
    {
      "cell_type": "code",
      "source": [
        "# Manipular os textos na coluna 'Apartamento'\n",
        "df_locacao['Apartamento'] = df_locacao['Apartamento'].str.replace(r'\\(blocoAP\\)', '', regex=True).str.strip()"
      ],
      "metadata": {
        "id": "tOARiAlcTKPX"
      },
      "execution_count": 22,
      "outputs": []
    },
    {
      "cell_type": "code",
      "source": [
        "# Transformar as colunas 'Data combinada de pagamento' e 'Data de pagamento' para datetime\n",
        "df_locacao['Data combinada de pagamento'] = pd.to_datetime(df_locacao['Data combinada de pagamento'], format='%d/%m/%Y')\n",
        "df_locacao['Data de pagamento'] = pd.to_datetime(df_locacao['Data de pagamento'], format='%d/%m/%Y')"
      ],
      "metadata": {
        "id": "iuEEzoSsTLwl"
      },
      "execution_count": 23,
      "outputs": []
    },
    {
      "cell_type": "code",
      "source": [
        "print(\"\\nDados de Administração de Condomínios (Após Transformação Completa):\")\n",
        "print(df_locacao.head())"
      ],
      "metadata": {
        "colab": {
          "base_uri": "https://localhost:8080/"
        },
        "id": "co8XGOuxTNdN",
        "outputId": "6fb35308-fa08-42ac-d6f2-6e4110234f4e"
      },
      "execution_count": 24,
      "outputs": [
        {
          "output_type": "stream",
          "name": "stdout",
          "text": [
            "\n",
            "Dados de Administração de Condomínios (Após Transformação Completa):\n",
            "  Apartamento Data combinada de pagamento Data de pagamento  Valor do aluguel  \\\n",
            "0        A101                  2022-06-01        2022-06-05           10000.0   \n",
            "1        A101                  2022-07-01        2022-07-03           25000.0   \n",
            "2        A102                  2022-06-02        2022-06-02           11000.0   \n",
            "3        A102                  2022-07-02        2022-07-06           26000.0   \n",
            "4        B201                  2022-06-03        2022-06-07           12000.0   \n",
            "\n",
            "   Atraso  \n",
            "0       4  \n",
            "1       2  \n",
            "2       0  \n",
            "3       4  \n",
            "4       4  \n"
          ]
        }
      ]
    },
    {
      "cell_type": "code",
      "source": [
        "# Análise de subconjunto - Calcular o atraso no pagamento\n",
        "df_locacao['Atraso'] = (df_locacao['Data de pagamento'] - df_locacao['Data combinada de pagamento']).dt.days\n",
        "print(\"\\nAnálise de Atraso no Pagamento:\")\n",
        "print(df_locacao[['Apartamento', 'Data combinada de pagamento', 'Data de pagamento', 'Atraso']])"
      ],
      "metadata": {
        "colab": {
          "base_uri": "https://localhost:8080/"
        },
        "id": "QlJ52mydTRd8",
        "outputId": "b0f10aab-b490-4e75-8d90-21669bfdebc7"
      },
      "execution_count": 25,
      "outputs": [
        {
          "output_type": "stream",
          "name": "stdout",
          "text": [
            "\n",
            "Análise de Atraso no Pagamento:\n",
            "   Apartamento Data combinada de pagamento Data de pagamento  Atraso\n",
            "0         A101                  2022-06-01        2022-06-05       4\n",
            "1         A101                  2022-07-01        2022-07-03       2\n",
            "2         A102                  2022-06-02        2022-06-02       0\n",
            "3         A102                  2022-07-02        2022-07-06       4\n",
            "4         B201                  2022-06-03        2022-06-07       4\n",
            "5         B201                  2022-07-03        2022-07-03       0\n",
            "6         B202                  2022-06-04        2022-06-07       3\n",
            "7         B202                  2022-07-04        2022-07-05       1\n",
            "8         C301                  2022-06-05        2022-06-10       5\n",
            "9         C301                  2022-07-05        2022-07-09       4\n",
            "10        C302                  2022-06-06        2022-06-08       2\n",
            "11        C302                  2022-07-06        2022-07-12       6\n",
            "12        D401                  2022-06-07        2022-06-07       0\n",
            "13        D401                  2022-07-07        2022-07-09       2\n",
            "14        D402                  2022-06-08        2022-06-10       2\n",
            "15        D402                  2022-07-08        2022-07-14       6\n",
            "16        E501                  2022-06-09        2022-06-10       1\n",
            "17        E501                  2022-07-09        2022-07-09       0\n",
            "18        E502                  2022-06-10        2022-06-16       6\n",
            "19        E502                  2022-07-10        2022-07-12       2\n",
            "20        F601                  2022-06-11        2022-06-17       6\n",
            "21        F601                  2022-07-11        2022-07-13       2\n",
            "22        F602                  2022-06-12        2022-06-15       3\n",
            "23        F602                  2022-07-12        2022-07-12       0\n",
            "24        G701                  2022-06-13        2022-06-19       6\n",
            "25        G701                  2022-07-13        2022-07-20       7\n",
            "26        G702                  2022-06-14        2022-06-15       1\n",
            "27        G702                  2022-07-14        2022-07-17       3\n",
            "28        H801                  2022-06-15        2022-06-18       3\n",
            "29        H801                  2022-07-15        2022-07-16       1\n"
          ]
        }
      ]
    }
  ]
}